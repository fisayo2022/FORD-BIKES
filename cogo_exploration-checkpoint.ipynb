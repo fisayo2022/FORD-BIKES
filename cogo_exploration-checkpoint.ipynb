{
 "cells": [
  {
   "cell_type": "markdown",
   "metadata": {},
   "source": [
    "# 2022 Cogo Ride Exploration and Visualization\n",
    "## by Fisayo Sofuwa\n",
    "\n",
    "## Introduction\n",
    "The [Cogo Bike](https://en.wikipedia.org/wiki/CoGo) Share system launched in July 2013 with a network of 300 bicycles and 30 stations located throughout downtown Columbus. Today, CoGo boasts around 90 stations and 600 bikes serving Columbus, Bexley, Upper Arlington, Grandview Heights and Easton. The system provides Columbus residents and visitors an additional transportation option for getting around town that is fun, easy, and affordable. \n",
    "\n",
    "CoGo is available for use 24 hours a day, 365 days a year and includes both classic pedal bikes and electric assist ebikes. The station network provides twice as many docking points as bicycles, assuring that an available dock to return your bicycle is always nearby. [here](https://cogo-sys-data.s3.amazonaws.com/index.html)\n",
    "\n",
    ">**N.B**: The data used for this exploration is data from **`January`** to **`August`**.\n",
    "\n",
    "## Preliminary Wrangling\n"
   ]
  },
  {
   "cell_type": "code",
   "execution_count": 2,
   "metadata": {},
   "outputs": [
    {
     "ename": "ImportError",
     "evalue": "cannot import name 'polyutils' from partially initialized module 'numpy.polynomial' (most likely due to a circular import) (C:\\Users\\DeySholey\\anaconda3\\lib\\site-packages\\numpy\\polynomial\\__init__.py)",
     "output_type": "error",
     "traceback": [
      "\u001b[1;31m---------------------------------------------------------------------------\u001b[0m",
      "\u001b[1;31mImportError\u001b[0m                               Traceback (most recent call last)",
      "\u001b[1;32m<ipython-input-2-a42d057a4e0c>\u001b[0m in \u001b[0;36m<module>\u001b[1;34m\u001b[0m\n\u001b[0;32m      1\u001b[0m \u001b[1;31m# import all packages and set plots to be embedded inline\u001b[0m\u001b[1;33m\u001b[0m\u001b[1;33m\u001b[0m\u001b[1;33m\u001b[0m\u001b[0m\n\u001b[1;32m----> 2\u001b[1;33m \u001b[1;32mimport\u001b[0m \u001b[0mnumpy\u001b[0m \u001b[1;32mas\u001b[0m \u001b[0mnp\u001b[0m\u001b[1;33m\u001b[0m\u001b[1;33m\u001b[0m\u001b[0m\n\u001b[0m\u001b[0;32m      3\u001b[0m \u001b[1;32mimport\u001b[0m \u001b[0mpandas\u001b[0m \u001b[1;32mas\u001b[0m \u001b[0mpd\u001b[0m\u001b[1;33m\u001b[0m\u001b[1;33m\u001b[0m\u001b[0m\n\u001b[0;32m      4\u001b[0m \u001b[1;32mimport\u001b[0m \u001b[0mmatplotlib\u001b[0m\u001b[1;33m\u001b[0m\u001b[1;33m\u001b[0m\u001b[0m\n\u001b[0;32m      5\u001b[0m \u001b[1;32mimport\u001b[0m \u001b[0mmatplotlib\u001b[0m\u001b[1;33m.\u001b[0m\u001b[0mpyplot\u001b[0m \u001b[1;32mas\u001b[0m \u001b[0mplt\u001b[0m\u001b[1;33m\u001b[0m\u001b[1;33m\u001b[0m\u001b[0m\n",
      "\u001b[1;32m~\\anaconda3\\lib\\site-packages\\numpy\\__init__.py\u001b[0m in \u001b[0;36m<module>\u001b[1;34m\u001b[0m\n\u001b[0;32m    148\u001b[0m     \u001b[1;32mfrom\u001b[0m \u001b[1;33m.\u001b[0m \u001b[1;32mimport\u001b[0m \u001b[0mlinalg\u001b[0m\u001b[1;33m\u001b[0m\u001b[1;33m\u001b[0m\u001b[0m\n\u001b[0;32m    149\u001b[0m     \u001b[1;32mfrom\u001b[0m \u001b[1;33m.\u001b[0m \u001b[1;32mimport\u001b[0m \u001b[0mfft\u001b[0m\u001b[1;33m\u001b[0m\u001b[1;33m\u001b[0m\u001b[0m\n\u001b[1;32m--> 150\u001b[1;33m     \u001b[1;32mfrom\u001b[0m \u001b[1;33m.\u001b[0m \u001b[1;32mimport\u001b[0m \u001b[0mpolynomial\u001b[0m\u001b[1;33m\u001b[0m\u001b[1;33m\u001b[0m\u001b[0m\n\u001b[0m\u001b[0;32m    151\u001b[0m     \u001b[1;32mfrom\u001b[0m \u001b[1;33m.\u001b[0m \u001b[1;32mimport\u001b[0m \u001b[0mrandom\u001b[0m\u001b[1;33m\u001b[0m\u001b[1;33m\u001b[0m\u001b[0m\n\u001b[0;32m    152\u001b[0m     \u001b[1;32mfrom\u001b[0m \u001b[1;33m.\u001b[0m \u001b[1;32mimport\u001b[0m \u001b[0mctypeslib\u001b[0m\u001b[1;33m\u001b[0m\u001b[1;33m\u001b[0m\u001b[0m\n",
      "\u001b[1;32m~\\anaconda3\\lib\\site-packages\\numpy\\polynomial\\__init__.py\u001b[0m in \u001b[0;36m<module>\u001b[1;34m\u001b[0m\n\u001b[0;32m     14\u001b[0m \u001b[1;33m\u001b[0m\u001b[0m\n\u001b[0;32m     15\u001b[0m \"\"\"\n\u001b[1;32m---> 16\u001b[1;33m \u001b[1;32mfrom\u001b[0m \u001b[1;33m.\u001b[0m\u001b[0mpolynomial\u001b[0m \u001b[1;32mimport\u001b[0m \u001b[0mPolynomial\u001b[0m\u001b[1;33m\u001b[0m\u001b[1;33m\u001b[0m\u001b[0m\n\u001b[0m\u001b[0;32m     17\u001b[0m \u001b[1;32mfrom\u001b[0m \u001b[1;33m.\u001b[0m\u001b[0mchebyshev\u001b[0m \u001b[1;32mimport\u001b[0m \u001b[0mChebyshev\u001b[0m\u001b[1;33m\u001b[0m\u001b[1;33m\u001b[0m\u001b[0m\n\u001b[0;32m     18\u001b[0m \u001b[1;32mfrom\u001b[0m \u001b[1;33m.\u001b[0m\u001b[0mlegendre\u001b[0m \u001b[1;32mimport\u001b[0m \u001b[0mLegendre\u001b[0m\u001b[1;33m\u001b[0m\u001b[1;33m\u001b[0m\u001b[0m\n",
      "\u001b[1;32m~\\anaconda3\\lib\\site-packages\\numpy\\polynomial\\polynomial.py\u001b[0m in \u001b[0;36m<module>\u001b[1;34m\u001b[0m\n\u001b[0;32m     84\u001b[0m \u001b[1;32mfrom\u001b[0m \u001b[0mnumpy\u001b[0m\u001b[1;33m.\u001b[0m\u001b[0mcore\u001b[0m\u001b[1;33m.\u001b[0m\u001b[0mmultiarray\u001b[0m \u001b[1;32mimport\u001b[0m \u001b[0mnormalize_axis_index\u001b[0m\u001b[1;33m\u001b[0m\u001b[1;33m\u001b[0m\u001b[0m\n\u001b[0;32m     85\u001b[0m \u001b[1;33m\u001b[0m\u001b[0m\n\u001b[1;32m---> 86\u001b[1;33m \u001b[1;32mfrom\u001b[0m \u001b[1;33m.\u001b[0m \u001b[1;32mimport\u001b[0m \u001b[0mpolyutils\u001b[0m \u001b[1;32mas\u001b[0m \u001b[0mpu\u001b[0m\u001b[1;33m\u001b[0m\u001b[1;33m\u001b[0m\u001b[0m\n\u001b[0m\u001b[0;32m     87\u001b[0m \u001b[1;32mfrom\u001b[0m \u001b[1;33m.\u001b[0m\u001b[0m_polybase\u001b[0m \u001b[1;32mimport\u001b[0m \u001b[0mABCPolyBase\u001b[0m\u001b[1;33m\u001b[0m\u001b[1;33m\u001b[0m\u001b[0m\n\u001b[0;32m     88\u001b[0m \u001b[1;33m\u001b[0m\u001b[0m\n",
      "\u001b[1;31mImportError\u001b[0m: cannot import name 'polyutils' from partially initialized module 'numpy.polynomial' (most likely due to a circular import) (C:\\Users\\DeySholey\\anaconda3\\lib\\site-packages\\numpy\\polynomial\\__init__.py)"
     ]
    }
   ],
   "source": [
    "# import all packages and set plots to be embedded inline\n",
    "import numpy as np\n",
    "import pandas as pd\n",
    "import matplotlib\n",
    "import matplotlib.pyplot as plt\n",
    "import seaborn as sns\n",
    "import glob\n",
    "import os\n",
    "\n",
    "%matplotlib inline\n",
    "sns.set_style('darkgrid')\n",
    "matplotlib.rcParams['figure.figsize'] = (8,6) # Adjust the comfiguretion of the plots we will create."
   ]
  },
  {
   "cell_type": "markdown",
   "metadata": {},
   "source": [
    "## Gathering and Assessing Data"
   ]
  },
  {
   "cell_type": "code",
   "execution_count": null,
   "metadata": {},
   "outputs": [],
   "source": [
    "# Get monthly CSV trip files from a folder and append data together\n",
    "folder_name = 'data'\n",
    "\n",
    "# Check if the file combined file exist and pass \n",
    "# else read the CSV files to append the data together\n",
    "if os.path.exists(\"cogo_trips_2022.csv\"):\n",
    "    pass\n",
    "else:\n",
    "    csv_files = glob.glob(os.path.join(folder_name, \"*.csv\"))\n",
    "    # Read each CSV file into DataFrame\n",
    "    # This creates a list of dataframes\n",
    "    trip_list = [pd.read_csv(file) for file in csv_files]\n",
    "    # Concatenate all DataFrames\n",
    "    full_trip   = pd.concat(trip_list, ignore_index=True)\n",
    "    \n",
    "    print(full_trip.shape)\n",
    "    full_trip.head()\n",
    "    \n",
    "    # save the appended data to a .csv file for further usage\n",
    "    full_trip.to_csv('cogo_trips_2022.csv', index=False)"
   ]
  },
  {
   "cell_type": "code",
   "execution_count": null,
   "metadata": {},
   "outputs": [],
   "source": [
    "biketrips22 = pd.read_csv('cogo_trips_2022.csv')\n",
    "print(biketrips22.shape)\n",
    "biketrips22.head()"
   ]
  },
  {
   "cell_type": "code",
   "execution_count": null,
   "metadata": {},
   "outputs": [],
   "source": [
    "biketrips22.info()"
   ]
  },
  {
   "cell_type": "code",
   "execution_count": null,
   "metadata": {},
   "outputs": [],
   "source": [
    "# check for null values\n",
    "biketrips22.isna().sum()"
   ]
  },
  {
   "cell_type": "code",
   "execution_count": null,
   "metadata": {},
   "outputs": [],
   "source": [
    "biketrips22.duplicated().sum()"
   ]
  },
  {
   "cell_type": "markdown",
   "metadata": {},
   "source": [
    "There are no duplicates in the data"
   ]
  },
  {
   "cell_type": "code",
   "execution_count": null,
   "metadata": {},
   "outputs": [],
   "source": [
    "biketrips22.rideable_type.value_counts()"
   ]
  },
  {
   "cell_type": "code",
   "execution_count": null,
   "metadata": {},
   "outputs": [],
   "source": [
    "biketrips22.member_casual.value_counts()"
   ]
  },
  {
   "cell_type": "markdown",
   "metadata": {},
   "source": [
    "## Issues\n",
    "\n",
    "1. started_at and ended_at not in correct format.\n",
    "2. Missing values start_station_id, start_station_name, end_station_id and end_station_name, and end_lat and end_lng.\n",
    "3. Drop unnecessary columns(ride_id, start_station_id, end_station_id)\n",
    "4. Create a trip duration column from started_at and ended_at.\n",
    "5. Create trip start date, trip start hour of the day, day of the week and month"
   ]
  },
  {
   "cell_type": "markdown",
   "metadata": {},
   "source": [
    "## Cleaning Data"
   ]
  },
  {
   "cell_type": "code",
   "execution_count": null,
   "metadata": {},
   "outputs": [],
   "source": [
    "# make a copy of the datframe\n",
    "trips22 = biketrips22.copy()"
   ]
  },
  {
   "cell_type": "code",
   "execution_count": null,
   "metadata": {},
   "outputs": [],
   "source": [
    "# issue 1: Change started_at and ended_at to datetime format.\n",
    "trips22['started_at'] = pd.to_datetime(trips22['started_at'])\n",
    "trips22['ended_at'] = pd.to_datetime(trips22['ended_at'])\n",
    "\n",
    "trips22.info()"
   ]
  },
  {
   "cell_type": "code",
   "execution_count": null,
   "metadata": {},
   "outputs": [],
   "source": [
    "# issue 2: drop missing values in end_station_id and end_station_name, and end_lat and end_lng.\n",
    "trips22 = trips22.dropna(axis=0)\n",
    "trips22.info()"
   ]
  },
  {
   "cell_type": "code",
   "execution_count": null,
   "metadata": {},
   "outputs": [],
   "source": [
    "# issue 3: Drop unnecessary columns(ride_id, start_station_id, end_station_id)\n",
    "trips22 = trips22.drop(columns = ['ride_id', 'start_station_id', 'end_station_id'])\n",
    "trips22.columns"
   ]
  },
  {
   "cell_type": "code",
   "execution_count": null,
   "metadata": {},
   "outputs": [],
   "source": [
    "# issue 4: Create a trip duration column from started_at and ended_at.\n",
    "trips22['duration_minute'] = trips22['ended_at'] - trips22['started_at']\n",
    "trips22['duration_minute'] = trips22['duration_minute'].dt.components.minutes\n",
    "trips22.sample(5)"
   ]
  },
  {
   "cell_type": "code",
   "execution_count": null,
   "metadata": {},
   "outputs": [],
   "source": [
    "# issue 5: Create trip start date, trip start hour of the day, day of the week and month\n",
    "trips22['start_date'] = trips22['started_at'].dt.date\n",
    "trips22['start_hourofday'] = trips22['started_at'].dt.hour\n",
    "trips22['start_dayofweek'] = trips22['started_at'].dt.day_name()\n",
    "trips22['start_month'] = trips22['started_at'].dt.month_name()\n",
    "\n",
    "trips22.sample(3)"
   ]
  },
  {
   "cell_type": "markdown",
   "metadata": {},
   "source": [
    "### What is the structure of your dataset?\n",
    "\n",
    "> The original combined data contains data from January to August which is approximately 35,800 individual trip records with 13 variables collected. The variables can be divided into 3 categories:\n",
    "> * trip duration: `started_at`, and `ended_at`.\n",
    "> * station info: `start_station_name`, `start_station_id`, `end_station_name`, `end_station_id`, `start_lat`, `start_lng`,  `end_lat`, `end_lng`.\n",
    "> * member info: `member_casual`, `rideable_type`, and `ride_id`\n",
    "\n",
    "> Derived features/variables to assist exploration and analysis:\n",
    "> * trip info: `duration_minute`, `start_date`, `start_hourofday`, `start_dayofweek`, `start_month`.\n",
    "\n",
    "\n",
    "### What is/are the main feature(s) of interest in your dataset?\n",
    "\n",
    "> I'm interested in exploring the bike trips' duration and rental events occurrance patterns, along with how these relate to the riders' characteristics, i.e user type(member or casual) to get a sense of how and what people are using the bike sharing services for. Sample questions to answer: When are most trips taken in term of time of day, day od week, or month of the year? How long does average trip take? Does the above depend on if a user is a casual or member user type?\n",
    "\n",
    "### What features in the dataset do you think will help support your investigation into your feature(s) of interest?\n",
    "\n",
    "> Each trips' start date/time and duration information will help understand how long a trip usually takes and when. The member information user type(casual or member) will help us find out which group of the user type(member or casual) utilizes the services more, use the different groups to summarize bike usage data to see if there is any special pattern associated with the specific groups of riders."
   ]
  },
  {
   "cell_type": "markdown",
   "metadata": {},
   "source": [
    "## Univariate Exploration\n",
    "\n"
   ]
  },
  {
   "cell_type": "markdown",
   "metadata": {},
   "source": [
    "A series of plots to first explore the trips distribution over hour of the day, day of the week, and month of the year."
   ]
  },
  {
   "cell_type": "code",
   "execution_count": null,
   "metadata": {},
   "outputs": [],
   "source": [
    "def label(x, y, t):\n",
    "    \"\"\"\n",
    "    Args:\n",
    "    x: x-axis title\n",
    "    y: y-axis title\n",
    "    t: main title\n",
    "    \"\"\"\n",
    "    \n",
    "    plt.xlabel(x)\n",
    "    plt.ylabel(y)\n",
    "    plt.title(t)\n",
    "    plt.show()"
   ]
  },
  {
   "cell_type": "code",
   "execution_count": null,
   "metadata": {},
   "outputs": [],
   "source": [
    "# trip distribution over day hours\n",
    "\n",
    "base_color = sns.color_palette()[0]\n",
    "sns.countplot(data=trips22, x='start_hourofday', color=base_color)\n",
    "label('Trip Start Hour of Day', 'Count');"
   ]
  },
  {
   "cell_type": "code",
   "execution_count": null,
   "metadata": {},
   "outputs": [],
   "source": [
    "# trip distribution over weekdays\n",
    "# change the start_dayofweek to categorical datatype\n",
    "weekday = ['Monday', 'Tuesday', 'Wednesday', 'Thursday', 'Friday', 'Saturday', 'Sunday']\n",
    "weekdaycat = pd.api.types.CategoricalDtype(ordered=True, categories=weekday)\n",
    "trips22['start_dayofweek'] = trips22['start_dayofweek'].astype(weekdaycat)\n",
    "\n",
    "sns.countplot(data=trips22, x='start_dayofweek', color=base_color)\n",
    "label('Trip Start Day of Week', 'Count');"
   ]
  },
  {
   "cell_type": "code",
   "execution_count": null,
   "metadata": {},
   "outputs": [],
   "source": [
    "# trip distribution over months\n",
    "# change the start_month to categorical datatype\n",
    "month = ['January', 'February', 'March', 'April', 'May', 'June', 'July', 'August']\n",
    "monthcat = pd.api.types.CategoricalDtype(ordered=True, categories=month)\n",
    "trips22['start_month'] = trips22['start_month'].astype(monthcat)\n",
    "\n",
    "sns.countplot(data=trips22, y='start_month', color=base_color)\n",
    "label('Count', 'Trip Start Month');"
   ]
  },
  {
   "cell_type": "markdown",
   "metadata": {},
   "source": [
    "The trip distribution over day hours is unimodel and peak late afternoon to evening around 15pm-19pm, during typical rush hours. Looking in combined with the distribution over day of week plot. With slight differnece during weekdays, Saturday having the higest usage. For the 2022, between January to August, the ride service usage increases with month except for decrease in July and August with June having the highest usage.\n",
    "\n",
    "**N.B**: The data used for this exploration is data from **`January`** to **`August`**."
   ]
  },
  {
   "cell_type": "markdown",
   "metadata": {},
   "source": [
    "The next several plots are around user type(member or casual) and ride type(rideable_type) to have a sense of the typical user of the service."
   ]
  },
  {
   "cell_type": "code",
   "execution_count": null,
   "metadata": {},
   "outputs": [],
   "source": [
    "sns.countplot(data=trips22, x='member_casual', color=base_color)\n",
    "\n",
    "label('User Type','Count');"
   ]
  },
  {
   "cell_type": "code",
   "execution_count": null,
   "metadata": {},
   "outputs": [],
   "source": [
    "sns.countplot(data=trips22, x='rideable_type', color=base_color)\n",
    "\n",
    "label('Ride Type','Count');"
   ]
  },
  {
   "cell_type": "markdown",
   "metadata": {},
   "source": [
    "Most riders are casuals and ride type are classic bike with little docked bike usage."
   ]
  },
  {
   "cell_type": "markdown",
   "metadata": {},
   "source": [
    "Trip duration distribution plot next"
   ]
  },
  {
   "cell_type": "code",
   "execution_count": null,
   "metadata": {},
   "outputs": [],
   "source": [
    "bins = np.arange(0, trips22['duration_minute'].max()+1, 1)\n",
    "plt.hist(data=trips22, x='duration_minute', bins=bins, color=base_color)\n",
    "plt.xlabel('Triip Duration in Minute')\n",
    "ticks = np.arange(0, trips22['duration_minute'].max()+5, 5)\n",
    "plt.xticks(ticks, ticks);"
   ]
  },
  {
   "cell_type": "markdown",
   "metadata": {},
   "source": [
    "The trip distribution is right skewed with majority of the trips less than 1 hours within 4 to 13 minutes."
   ]
  },
  {
   "cell_type": "markdown",
   "metadata": {},
   "source": [
    "### Discuss the distribution(s) of your variable(s) of interest. Were there any unusual points? Did you need to perform any transformations?\n",
    "\n",
    "> The number of trips peaked around 15-19pm with saturday been higher than other days. For the 2022, between January to August, the ride service usage increases with month except for almost same usage for January and February, and for fall in July and August.\n",
    "\n",
    ">Most riders are casuals and ride type are classic bike.\n",
    "\n",
    ">Most rides were quick and short, lasted between 4 to 13 minutes.\n",
    "\n",
    ">There was no unusual points and no transformation was also needed due to straightforwardness of the data.\n",
    "\n",
    "**N.B**: The data used for this exploration is data from **`January`** to **`August`**.\n",
    "\n",
    "\n",
    "\n",
    "### Of the features you investigated, were there any unusual distributions? Did you perform any operations on the data to tidy, adjust, or change the form of the data? If so, why did you do this?\n",
    "\n",
    "> The trips duration was extracted from the started_at and ended_at features. The start_date, start_hourofday, start_dayofweek, start_month was also gotten from started_at feature."
   ]
  },
  {
   "cell_type": "markdown",
   "metadata": {},
   "source": [
    "## Bivariate Exploration\n",
    "\n",
    "How does the trip distribution vary between member and casual, electric bike, classic bike and docked bike?"
   ]
  },
  {
   "cell_type": "code",
   "execution_count": null,
   "metadata": {},
   "outputs": [],
   "source": [
    "sns.violinplot(data=trips22, x='member_casual', y='duration_minute', color=base_color, inner='quartile')\n",
    "label('User Type', 'Trip Duration in Minute');"
   ]
  },
  {
   "cell_type": "markdown",
   "metadata": {},
   "source": [
    "The trip duration distribution is much narrower for members compared to casual riders on the longer trip end overall. It seems like members have a more specific usage or targeted goal riding the bikes compared to casual who rented the bikes for long."
   ]
  },
  {
   "cell_type": "markdown",
   "metadata": {},
   "source": [
    "How does the trips duratiion distribution vary by ride type?"
   ]
  },
  {
   "cell_type": "code",
   "execution_count": null,
   "metadata": {},
   "outputs": [],
   "source": [
    "sns.boxplot(data=trips22, x='rideable_type', y='duration_minute', color=base_color)\n",
    "label('Ride Type', 'Trip Duration in Minute');"
   ]
  },
  {
   "cell_type": "markdown",
   "metadata": {},
   "source": [
    "Though slight difference between electric and classic bikes. Docked bikes have higher trips duration."
   ]
  },
  {
   "cell_type": "markdown",
   "metadata": {},
   "source": [
    "Average Trip Duration by Hours of the Day."
   ]
  },
  {
   "cell_type": "code",
   "execution_count": null,
   "metadata": {},
   "outputs": [],
   "source": [
    "sns.barplot(data=trips22, x='start_hourofday', y='duration_minute', color=base_color)\n",
    "label('Hour of Day', 'Avg. Trip Duration in Minute');"
   ]
  },
  {
   "cell_type": "markdown",
   "metadata": {},
   "source": [
    "The riding trips are much shorted between 4am-9am with highest usage in 2pm."
   ]
  },
  {
   "cell_type": "markdown",
   "metadata": {},
   "source": [
    "Average Trip Duration on Weekdays"
   ]
  },
  {
   "cell_type": "code",
   "execution_count": null,
   "metadata": {},
   "outputs": [],
   "source": [
    "sns.barplot(data=trips22, x='start_dayofweek', y='duration_minute', color=base_color)\n",
    "label('Day of week', 'Avg. Trip Duration in Minute');"
   ]
  },
  {
   "cell_type": "markdown",
   "metadata": {},
   "source": [
    "The riding trips are much shorted on Monday through Friday compared to weekends. It indicates a stable and efficient usage of the sharing system  on normal work days, while more casual flexible use on weekends."
   ]
  },
  {
   "cell_type": "markdown",
   "metadata": {},
   "source": [
    "Average Trip Duration on Month"
   ]
  },
  {
   "cell_type": "code",
   "execution_count": null,
   "metadata": {},
   "outputs": [],
   "source": [
    "sns.barplot(data=trips22, x='start_month', y='duration_minute', color=base_color)\n",
    "label('Month', 'Avg. Trip Duration in Minute');"
   ]
  },
  {
   "cell_type": "markdown",
   "metadata": {},
   "source": [
    "The average usage time show an increasing trend over the months from January to May, almost equal usage in June and July with a decrease in August."
   ]
  },
  {
   "cell_type": "markdown",
   "metadata": {},
   "source": [
    "Weekly usage between members and casuals"
   ]
  },
  {
   "cell_type": "code",
   "execution_count": null,
   "metadata": {},
   "outputs": [],
   "source": [
    "sns.countplot(data=trips22, x='start_dayofweek', hue='member_casual')\n",
    "label('Day of Week', 'Count');"
   ]
  },
  {
   "cell_type": "markdown",
   "metadata": {},
   "source": [
    "The difference between member and casual during weekends is very large compared to weekdays. Which signify members and casual uses this bike sharing system as channel of commute to work places, with high usage at weekend by casual."
   ]
  },
  {
   "cell_type": "markdown",
   "metadata": {},
   "source": [
    "Monthly usage between members and casuals"
   ]
  },
  {
   "cell_type": "code",
   "execution_count": null,
   "metadata": {},
   "outputs": [],
   "source": [
    "sns.countplot(data=trips22, x='start_month', hue='member_casual')\n",
    "label('Day of Week', 'Count');"
   ]
  },
  {
   "cell_type": "markdown",
   "metadata": {},
   "source": [
    "The plot above shows the increasing pattern of trips with larger trips made by members with the exception of January and February having very slight difference between casual and members."
   ]
  },
  {
   "cell_type": "markdown",
   "metadata": {},
   "source": [
    "### Talk about some of the relationships you observed in this part of the investigation. How did the feature(s) of interest vary with other features in the dataset?\n",
    "\n",
    "> There are a lot of member than casual users and the riding habit varies alot between both user type. Members and casuals uses the bike sharing system for work commute thus having low average trip between on work days (Mon-Fri) whereas casual tends to ride for fun especially over the weekend. \n",
    "\n",
    "\n",
    "### Did you observe any interesting relationships between the other features (not the main feature(s) of interest)?\n",
    "\n",
    "> It is interesting to see that docked bike type have higher average trip duration with little difference in electric and classic bikes."
   ]
  },
  {
   "cell_type": "markdown",
   "metadata": {},
   "source": [
    "## Multivariate Exploration\n",
    "\n",
    "How does the average trip duration vary between member and casual, and ride type"
   ]
  },
  {
   "cell_type": "code",
   "execution_count": null,
   "metadata": {},
   "outputs": [],
   "source": [
    "sns.pointplot(data=trips22, x='start_dayofweek', y='duration_minute', hue='member_casual', dodge=0.3, linestyles='')\n",
    "label('Day of Week', 'Avg. Trip Duration in Minute');"
   ]
  },
  {
   "cell_type": "markdown",
   "metadata": {},
   "source": [
    "It can be seen from the above plot that members ride much shorter/quicker trips compared to casual  on each day of the week. Both user types have decrease trip duration trend between Monday to Thursday and increase between Friday to Sunday."
   ]
  },
  {
   "cell_type": "code",
   "execution_count": null,
   "metadata": {},
   "outputs": [],
   "source": [
    "sns.pointplot(data=trips22, x='start_dayofweek', y='duration_minute', hue='rideable_type', dodge=0.3, linestyles='')\n",
    "label('Ride Type', 'Avg. Trip Duration in Minute');"
   ]
  },
  {
   "cell_type": "markdown",
   "metadata": {},
   "source": [
    "From the above plot, docked bikes high avearge trip duration compared with to classic and elcectric bikes with little differnce between both."
   ]
  },
  {
   "cell_type": "markdown",
   "metadata": {},
   "source": [
    "### Talk about some of the relationships you observed in this part of the investigation. Were there features that strengthened each other in terms of looking at your feature(s) of interest?\n",
    "\n",
    "> The multivariate exploration strengthened some of the patterns discovered in the previous bivariate exploration as well as univariate exploration, the relationship between the multiple variables plotted are visualized altogether and information are presented combined. The short and efficient period of usage  for member between Monday through Friday indicate the use primarily for work commute. The more higher and flexible pattern of casual use shows that they are taking advantage of the bike sharing system quite differntly heavily over the weekends for city tour or leisure purposs probably.\n",
    "\n",
    "### Were there any interesting or surprising interactions between features?\n",
    "\n",
    "> The interactions between features are all suplementing each other and quite make sense when looked at combined. There is no big surprised, except for high average trip duration of docked bikes compared to the electric and classic bikes."
   ]
  },
  {
   "cell_type": "code",
   "execution_count": null,
   "metadata": {},
   "outputs": [],
   "source": []
  }
 ],
 "metadata": {
  "kernelspec": {
   "display_name": "Python [conda env:root] *",
   "language": "python",
   "name": "conda-root-py"
  },
  "language_info": {
   "codemirror_mode": {
    "name": "ipython",
    "version": 3
   },
   "file_extension": ".py",
   "mimetype": "text/x-python",
   "name": "python",
   "nbconvert_exporter": "python",
   "pygments_lexer": "ipython3",
   "version": "3.8.5"
  }
 },
 "nbformat": 4,
 "nbformat_minor": 2
}
